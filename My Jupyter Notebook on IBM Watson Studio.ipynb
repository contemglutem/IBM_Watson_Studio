{
 "cells": [
  {
   "cell_type": "markdown",
   "id": "d34cb21c",
   "metadata": {},
   "source": [
    "#  My Jupyter Notebook on IBM Watson Studio"
   ]
  },
  {
   "cell_type": "markdown",
   "id": "f90414a8",
   "metadata": {},
   "source": [
    "**Matheus Simon**\n",
    "\n",
    "Data Science "
   ]
  },
  {
   "cell_type": "markdown",
   "id": "94893b3a",
   "metadata": {},
   "source": [
    "I'm interested in data science because is the new oil. Passionate about technology and what is possible to develop with it. "
   ]
  },
  {
   "cell_type": "markdown",
   "id": "1a0a734c",
   "metadata": {},
   "source": [
    "### Define a function for sum two numbers"
   ]
  },
  {
   "cell_type": "code",
   "execution_count": 1,
   "id": "57ee551d",
   "metadata": {},
   "outputs": [
    {
     "data": {
      "text/plain": [
       "2"
      ]
     },
     "execution_count": 1,
     "metadata": {},
     "output_type": "execute_result"
    }
   ],
   "source": [
    "def sum(a,b):\n",
    "    c = a + b \n",
    "    return c\n",
    "\n",
    "sum(1,1)"
   ]
  },
  {
   "cell_type": "markdown",
   "id": "702e7b17",
   "metadata": {},
   "source": [
    "\n",
    "\n",
    "<dl>\n",
    "  <dt>List example</dt>\n",
    "  <dd>Is something people use sometimes for supermarket shopping.</dd>\n",
    "\n",
    "  <dt>Markdown in HTML</dt>\n",
    "  <dd>Does *not* work **very** well. Use HTML is a default example <em>tags</em>.</dd>\n",
    "</dl>\n",
    "\n",
    "\n",
    "Need to add more...\n",
    "\n",
    "---\n",
    "\n",
    "Hyphens\n",
    "\n",
    "***\n",
    "\n",
    "Asterisks\n",
    "\n",
    "___\n",
    "\n",
    "Underscores"
   ]
  },
  {
   "cell_type": "code",
   "execution_count": null,
   "id": "f3573d3c",
   "metadata": {},
   "outputs": [],
   "source": []
  }
 ],
 "metadata": {
  "kernelspec": {
   "display_name": "Python 3 (ipykernel)",
   "language": "python",
   "name": "python3"
  },
  "language_info": {
   "codemirror_mode": {
    "name": "ipython",
    "version": 3
   },
   "file_extension": ".py",
   "mimetype": "text/x-python",
   "name": "python",
   "nbconvert_exporter": "python",
   "pygments_lexer": "ipython3",
   "version": "3.7.9"
  }
 },
 "nbformat": 4,
 "nbformat_minor": 5
}
